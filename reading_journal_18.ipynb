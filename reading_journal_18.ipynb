{
  "nbformat": 4,
  "nbformat_minor": 0,
  "metadata": {
    "colab": {
      "name": "reading-journal-18.ipynb",
      "version": "0.3.2",
      "provenance": [],
      "collapsed_sections": [],
      "include_colab_link": true
    },
    "kernelspec": {
      "display_name": "Python 3",
      "language": "python",
      "name": "python3"
    }
  },
  "cells": [
    {
      "cell_type": "markdown",
      "metadata": {
        "id": "view-in-github",
        "colab_type": "text"
      },
      "source": [
        "<a href=\"https://colab.research.google.com/github/katie608/ReadingJournal/blob/master/reading_journal_18.ipynb\" target=\"_parent\"><img src=\"https://colab.research.google.com/assets/colab-badge.svg\" alt=\"Open In Colab\"/></a>"
      ]
    },
    {
      "metadata": {
        "id": "5dwbadDWpoV4",
        "colab_type": "text"
      },
      "cell_type": "markdown",
      "source": [
        "# Day 18 Reading Journal\n",
        "\n",
        "Read Think Python [Appendix B](http://greenteapress.com/thinkpython2/html/thinkpython2022.html) (through B.2).  You only need to read as far as section B.2 (inclusive), but feel free to go further and try more exercises if you are interested in search algorithms or how the implementation of dictionaries gives them their excellent properties."
      ]
    },
    {
      "metadata": {
        "is_question": true,
        "problem": "Exercise B.1",
        "id": "qkEyR7GWpoV8",
        "colab_type": "text"
      },
      "cell_type": "markdown",
      "source": [
        "### Exercise 1  \n",
        "\n",
        "Read the [Wikipedia page on Big-Oh notation](http://en.wikipedia.org/wiki/Big_O_notation) and answer the following questions:\n",
        "\n",
        " 1. What is the order of growth of n<sup>3</sup> + n<sup>2</sup>? What about 1000000 n<sup>3</sup> + n<sup>2</sup>? What about n<sup>3</sup> + 1000000 n<sup>2</sup>?\n",
        " 2. What is the order of growth of (n<sup>2</sup> + n) * (n + 1)? Before you start multiplying, remember that you only need the leading term.\n",
        " 3. If f is in O(g), for some unspecified function g, what can we say about af+b?\n",
        " 4. If f<sub>1</sub> and f<sub>2</sub> are in O(g), what can we say about f<sub>1</sub> + f<sub>2</sub>?\n",
        " 5. If f<sub>1</sub> is in O(g) and f<sub>2</sub> is in O(h), what can we say about f<sub>1</sub> + f<sub>2</sub>?\n",
        " 6. If f<sub>1</sub> is in O(g) and f<sub>2</sub> is O(h), what can we say about f<sub>1</sub> * f<sub>2</sub>? "
      ]
    },
    {
      "metadata": {
        "solution": "Exercise B.1",
        "id": "Jwz_A_b5poV-",
        "colab_type": "text"
      },
      "cell_type": "markdown",
      "source": [
        "  1. These are all examples of cubic growth\n",
        "  2. This would be cubic growth\n",
        "  3. It would have the same order of growth.\n",
        "  4. O(g) is a convex cone, f1+f2 e O(g)\n",
        "  5. f1+f2 e O(g)+O(h)\n",
        "  6. f1* f2 e O(fg)* O(hg)"
      ]
    },
    {
      "metadata": {
        "id": "Cnwse0VGpoWA",
        "colab_type": "text"
      },
      "cell_type": "markdown",
      "source": [
        "### Exercise 2\n",
        "\n",
        "When designing an algorithm, there are a multitude of factors to consider (anything from the *actual* run time of an algorithm to the impact the algorithm has on society). Name three considerations beyond the order of growth (big-Oh) of an algorithm that are important to consider when analyzing an algorithm.   Next, choose one of these considerations and find a reading (e.g., an news article, a Wikipedia page) that discusses this consideration in light of a specific algorithm."
      ]
    },
    {
      "metadata": {
        "id": "snzO33KqgekN",
        "colab_type": "text"
      },
      "cell_type": "markdown",
      "source": [
        "Three considerations are how easy to implement the algorithm is, how accurate it is, and how transparant it is (making sure if overfitting happens, it is recognized)\n",
        "https://www.wired.com/story/what-does-a-fair-algorithm-look-like/"
      ]
    },
    {
      "metadata": {
        "is_poll": true,
        "is_question": true,
        "problem": "Time spent",
        "id": "GhPSYp4tpoWI",
        "colab_type": "text"
      },
      "cell_type": "markdown",
      "source": [
        "## Quick poll\n",
        "About how long did you spend working on this Reading Journal?"
      ]
    },
    {
      "metadata": {
        "poll_response": true,
        "solution": "Time spent",
        "id": "Yogzp1bcpoWJ",
        "colab_type": "text"
      },
      "cell_type": "markdown",
      "source": [
        "45 minutes "
      ]
    },
    {
      "metadata": {
        "is_question": true,
        "problem": "Feedback",
        "id": "qaNfqm6GpoWK",
        "colab_type": "text"
      },
      "cell_type": "markdown",
      "source": [
        "## Reading Journal feedback\n",
        "\n",
        "Have any comments on this Reading Journal? Feel free to leave them below and we'll read them when you submit your journal entry. This could include suggestions to improve the exercises, topics you'd like to see covered in class next time, or other feedback.\n",
        "\n",
        "If you have Python questions or run into problems while completing the reading, you should post them to the discussion forum instead so you can get a quick response before your journal is submitted."
      ]
    },
    {
      "metadata": {
        "feedback_response": true,
        "solution": "Feedback",
        "id": "GZliIQ5DpoWL",
        "colab_type": "text"
      },
      "cell_type": "markdown",
      "source": [
        " "
      ]
    }
  ]
}